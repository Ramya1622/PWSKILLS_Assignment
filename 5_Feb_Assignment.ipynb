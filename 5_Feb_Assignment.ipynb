{
 "cells": [
  {
   "cell_type": "markdown",
   "id": "5e0571a9-0422-42e8-acc8-77e936cdcc89",
   "metadata": {},
   "source": [
    "### Q1. Explain Class and Object with respect to Object-Oriented Programming. Give a suitable example."
   ]
  },
  {
   "cell_type": "markdown",
   "id": "cdb27cdb-0115-4a1d-a4bd-11f3d6672d8d",
   "metadata": {},
   "source": [
    "#### Class is a blueprint or prototype from which objects are created. It defines Rules for creating an object\n",
    "#### Object - Each Object belongs to a class which is a copy of the class with actual values in it. Object is also known as Instance\n",
    "####     For example, \n",
    "####     1. Bike Makers is a Class and the Object is Bike\n",
    "####     2. List is a Class and [1,2,3] is an object of List Class"
   ]
  },
  {
   "cell_type": "markdown",
   "id": "ff43fcb5-2483-4283-8232-22ab21e86f0d",
   "metadata": {},
   "source": [
    "### Q2. Name the four pillars of OOPs."
   ]
  },
  {
   "cell_type": "markdown",
   "id": "f93e780f-5e86-4156-85fb-0fb34e568399",
   "metadata": {},
   "source": [
    "#### 1.Abstraction\n",
    "#### 2.Polymorphism\n",
    "#### 3.Encapsulation\n",
    "#### 4.Inheritance"
   ]
  },
  {
   "cell_type": "markdown",
   "id": "1a214f3b-1cec-47e2-99c1-56685d556270",
   "metadata": {},
   "source": [
    "### Q3. Explain why the __init__() function is used. Give a suitable example."
   ]
  },
  {
   "cell_type": "markdown",
   "id": "8ab339db-e96b-4038-ad36-c385f7cd51be",
   "metadata": {},
   "source": [
    "#### init() function is used to assign values to the class. It is referred as the Constructor which will store any value in the object belonging to the class\n",
    "#### In the below example, using init we're able to define variables and pass values in them belonging to the new class"
   ]
  },
  {
   "cell_type": "code",
   "execution_count": 2,
   "id": "bef0f160-0f6b-4e07-a011-d278d5218ba4",
   "metadata": {},
   "outputs": [],
   "source": [
    "#For Example,\n",
    "\n",
    "class new_class:\n",
    "    def __init__(self,name,id):\n",
    "        self.name=name\n",
    "        self.id=id\n",
    "    def return_function(self):\n",
    "        return self.name,self.id"
   ]
  },
  {
   "cell_type": "code",
   "execution_count": 3,
   "id": "8f1b3518-8f78-4d26-8408-d6f7deae94dc",
   "metadata": {},
   "outputs": [],
   "source": [
    "ramya = new_class('Ramya',11)"
   ]
  },
  {
   "cell_type": "code",
   "execution_count": 4,
   "id": "1308b668-b424-47c5-8537-d6835ea1ce8e",
   "metadata": {},
   "outputs": [
    {
     "data": {
      "text/plain": [
       "'Ramya'"
      ]
     },
     "execution_count": 4,
     "metadata": {},
     "output_type": "execute_result"
    }
   ],
   "source": [
    "ramya.name"
   ]
  },
  {
   "cell_type": "code",
   "execution_count": 5,
   "id": "0c4ad7bd-8663-4193-9952-a704bfe7c38e",
   "metadata": {},
   "outputs": [
    {
     "data": {
      "text/plain": [
       "11"
      ]
     },
     "execution_count": 5,
     "metadata": {},
     "output_type": "execute_result"
    }
   ],
   "source": [
    "ramya.id"
   ]
  },
  {
   "cell_type": "code",
   "execution_count": 6,
   "id": "16c1b99f-e8e7-4504-8cb9-88b2f50e9c5d",
   "metadata": {},
   "outputs": [
    {
     "data": {
      "text/plain": [
       "('Ramya', 11)"
      ]
     },
     "execution_count": 6,
     "metadata": {},
     "output_type": "execute_result"
    }
   ],
   "source": [
    "ramya.return_function()"
   ]
  },
  {
   "cell_type": "markdown",
   "id": "42688969-7657-4134-ae2f-e59b0d097541",
   "metadata": {},
   "source": [
    "### Q4. Why self is used in OOPs?"
   ]
  },
  {
   "cell_type": "markdown",
   "id": "11c03ebb-4cc8-4766-81bb-ca7f8f7f4dd3",
   "metadata": {},
   "source": [
    "#### Self is a Reference Pointer and is used in a class to denote that anything that is assigned using the class name belongs to the class.\n",
    "#### Self is not a keyword and just a variable so can be replaced with any name"
   ]
  },
  {
   "cell_type": "markdown",
   "id": "d35125dc-a408-43a8-b73e-1da93068ed76",
   "metadata": {},
   "source": [
    "### Q5. What is inheritance? Give an example for each type of inheritance."
   ]
  },
  {
   "cell_type": "code",
   "execution_count": 8,
   "id": "92a9711a-1452-472a-b40e-4d509e85ca2d",
   "metadata": {},
   "outputs": [
    {
     "data": {
      "text/plain": [
       "' The Class from which properties are being inherited is referred as the Parent Class and the Inherited one is referred as Child Class\\n\\nTypes:\\n    Single Inheritance - Properties from 1 parent class is derived to one child class\\n        Example, Parent Class containing parent details and child class containing child details and parent details from Parent Class\\n    Multiple Inheritance - Properties from more than 1 parent class is inherited to child class\\n        Example, Parent Class - Mother & Father , Child Class - Child\\n    Multilevel Inheritance - Properties from Base and Intermediate Class is derived to Child Class\\n        Example, Base Class - Grandfather , Intermediate Class - Father , Child Class - Son\\n    Hierarchial Inheritance - Properties from Base Class is inherited to multiple Child Class\\n        Example, Base Class - Parents, Child Class - Son & Daughter\\n    Hybrid Inheritance - Multiple types of Inheritance is seen in Hybrid\\n        Example, School where multiple types of relation between students & teachers and between students '"
      ]
     },
     "execution_count": 8,
     "metadata": {},
     "output_type": "execute_result"
    }
   ],
   "source": [
    "#### Inheritance allows us to define a class that uses or inherits the properties and methods of another class.\n",
    "\"\"\" The Class from which properties are being inherited is referred as the Parent Class and the Inherited one is referred as Child Class\n",
    "\n",
    "Types:\n",
    "    Single Inheritance - Properties from 1 parent class is derived to one child class\n",
    "        Example, Parent Class containing parent details and child class containing child details and parent details from Parent Class\n",
    "    Multiple Inheritance - Properties from more than 1 parent class is inherited to child class\n",
    "        Example, Parent Class - Mother & Father , Child Class - Child\n",
    "    Multilevel Inheritance - Properties from Base and Intermediate Class is derived to Child Class\n",
    "        Example, Base Class - Grandfather , Intermediate Class - Father , Child Class - Son\n",
    "    Hierarchial Inheritance - Properties from Base Class is inherited to multiple Child Class\n",
    "        Example, Base Class - Parents, Child Class - Son & Daughter\n",
    "    Hybrid Inheritance - Multiple types of Inheritance is seen in Hybrid\n",
    "        Example, School where multiple types of relation between students & teachers and between students \"\"\""
   ]
  },
  {
   "cell_type": "code",
   "execution_count": null,
   "id": "7fabbd5d-f2ae-4aea-a8ed-581e08350554",
   "metadata": {},
   "outputs": [],
   "source": []
  }
 ],
 "metadata": {
  "kernelspec": {
   "display_name": "Python 3 (ipykernel)",
   "language": "python",
   "name": "python3"
  },
  "language_info": {
   "codemirror_mode": {
    "name": "ipython",
    "version": 3
   },
   "file_extension": ".py",
   "mimetype": "text/x-python",
   "name": "python",
   "nbconvert_exporter": "python",
   "pygments_lexer": "ipython3",
   "version": "3.10.8"
  }
 },
 "nbformat": 4,
 "nbformat_minor": 5
}
